{
 "cells": [
  {
   "cell_type": "code",
   "execution_count": 1,
   "metadata": {},
   "outputs": [],
   "source": [
    "import numpy as np\n",
    "import pandas as pd\n",
    "import nltk\n",
    "import re\n",
    "from nltk.corpus import stopwords\n",
    "from nltk.tokenize import sent_tokenize,word_tokenize\n",
    "from gensim.models import Word2Vec\n",
    "from keras.layers import Embedding, LSTM, Dense, Dropout, Lambda, Flatten\n",
    "from keras.models import Sequential, load_model, model_from_config\n",
    "import keras.backend as K\n",
    "from sklearn.model_selection import train_test_split\n",
    "from sklearn.metrics import mean_squared_error\n",
    "from sklearn.metrics import cohen_kappa_score"
   ]
  },
  {
   "cell_type": "markdown",
   "metadata": {},
   "source": [
    "**Preparing Dataset**"
   ]
  },
  {
   "cell_type": "code",
   "execution_count": 2,
   "metadata": {},
   "outputs": [],
   "source": [
    "df = pd.read_csv(\"Dataset/training_set_rel3.tsv\", sep='\\t', encoding='ISO-8859-1');\n",
    "df.dropna(axis=1,inplace=True)\n",
    "df.drop(columns=['domain1_score','rater1_domain1','rater2_domain1'],inplace=True,axis=1)\n",
    "df.head()\n",
    "temp = pd.read_csv(\"Processed_data.csv\")\n",
    "temp.drop(\"Unnamed: 0\",inplace=True,axis=1)"
   ]
  },
  {
   "cell_type": "code",
   "execution_count": 3,
   "metadata": {},
   "outputs": [
    {
     "data": {
      "text/html": [
       "<div>\n",
       "<style scoped>\n",
       "    .dataframe tbody tr th:only-of-type {\n",
       "        vertical-align: middle;\n",
       "    }\n",
       "\n",
       "    .dataframe tbody tr th {\n",
       "        vertical-align: top;\n",
       "    }\n",
       "\n",
       "    .dataframe thead th {\n",
       "        text-align: right;\n",
       "    }\n",
       "</style>\n",
       "<table border=\"1\" class=\"dataframe\">\n",
       "  <thead>\n",
       "    <tr style=\"text-align: right;\">\n",
       "      <th></th>\n",
       "      <th>essay_id</th>\n",
       "      <th>essay_set</th>\n",
       "      <th>essay</th>\n",
       "      <th>domain1_score</th>\n",
       "    </tr>\n",
       "  </thead>\n",
       "  <tbody>\n",
       "    <tr>\n",
       "      <th>0</th>\n",
       "      <td>1</td>\n",
       "      <td>1</td>\n",
       "      <td>Dear local newspaper, I think effects computer...</td>\n",
       "      <td>6</td>\n",
       "    </tr>\n",
       "    <tr>\n",
       "      <th>1</th>\n",
       "      <td>2</td>\n",
       "      <td>1</td>\n",
       "      <td>Dear @CAPS1 @CAPS2, I believe that using compu...</td>\n",
       "      <td>7</td>\n",
       "    </tr>\n",
       "    <tr>\n",
       "      <th>2</th>\n",
       "      <td>3</td>\n",
       "      <td>1</td>\n",
       "      <td>Dear, @CAPS1 @CAPS2 @CAPS3 More and more peopl...</td>\n",
       "      <td>5</td>\n",
       "    </tr>\n",
       "    <tr>\n",
       "      <th>3</th>\n",
       "      <td>4</td>\n",
       "      <td>1</td>\n",
       "      <td>Dear Local Newspaper, @CAPS1 I have found that...</td>\n",
       "      <td>8</td>\n",
       "    </tr>\n",
       "    <tr>\n",
       "      <th>4</th>\n",
       "      <td>5</td>\n",
       "      <td>1</td>\n",
       "      <td>Dear @LOCATION1, I know having computers has a...</td>\n",
       "      <td>6</td>\n",
       "    </tr>\n",
       "  </tbody>\n",
       "</table>\n",
       "</div>"
      ],
      "text/plain": [
       "   essay_id  essay_set                                              essay  \\\n",
       "0         1          1  Dear local newspaper, I think effects computer...   \n",
       "1         2          1  Dear @CAPS1 @CAPS2, I believe that using compu...   \n",
       "2         3          1  Dear, @CAPS1 @CAPS2 @CAPS3 More and more peopl...   \n",
       "3         4          1  Dear Local Newspaper, @CAPS1 I have found that...   \n",
       "4         5          1  Dear @LOCATION1, I know having computers has a...   \n",
       "\n",
       "   domain1_score  \n",
       "0              6  \n",
       "1              7  \n",
       "2              5  \n",
       "3              8  \n",
       "4              6  "
      ]
     },
     "execution_count": 3,
     "metadata": {},
     "output_type": "execute_result"
    }
   ],
   "source": [
    "df['domain1_score']=temp['final_score']\n",
    "df.head()"
   ]
  },
  {
   "cell_type": "code",
   "execution_count": 4,
   "metadata": {},
   "outputs": [
    {
     "data": {
      "text/plain": [
       "\"Dear local newspaper, I think effects computers have on people are great learning skills/affects because they give us time to chat with friends/new people, helps us learn about the globe(astronomy) and keeps us out of troble! Thing about! Dont you think so? How would you feel if your teenager is always on the phone with friends! Do you ever time to chat with your friends or buisness partner about things. Well now - there's a new way to chat the computer, theirs plenty of sites on the internet to do so: @ORGANIZATION1, @ORGANIZATION2, @CAPS1, facebook, myspace ect. Just think now while your setting up meeting with your boss on the computer, your teenager is having fun on the phone not rushing to get off cause you want to use it. How did you learn about other countrys/states outside of yours? Well I have by computer/internet, it's a new way to learn about what going on in our time! You might think your child spends a lot of time on the computer, but ask them so question about the economy, sea floor spreading or even about the @DATE1's you'll be surprise at how much he/she knows. Believe it or not the computer is much interesting then in class all day reading out of books. If your child is home on your computer or at a local library, it's better than being out with friends being fresh, or being perpressured to doing something they know isnt right. You might not know where your child is, @CAPS2 forbidde in a hospital bed because of a drive-by. Rather than your child on the computer learning, chatting or just playing games, safe and sound in your home or community place. Now I hope you have reached a point to understand and agree with me, because computers can have great effects on you or child because it gives us time to chat with friends/new people, helps us learn about the globe and believe or not keeps us out of troble. Thank you for listening.\""
      ]
     },
     "execution_count": 4,
     "metadata": {},
     "output_type": "execute_result"
    }
   ],
   "source": [
    "df['essay'][0]"
   ]
  },
  {
   "cell_type": "code",
   "execution_count": 5,
   "metadata": {},
   "outputs": [
    {
     "data": {
      "text/html": [
       "<div>\n",
       "<style scoped>\n",
       "    .dataframe tbody tr th:only-of-type {\n",
       "        vertical-align: middle;\n",
       "    }\n",
       "\n",
       "    .dataframe tbody tr th {\n",
       "        vertical-align: top;\n",
       "    }\n",
       "\n",
       "    .dataframe thead th {\n",
       "        text-align: right;\n",
       "    }\n",
       "</style>\n",
       "<table border=\"1\" class=\"dataframe\">\n",
       "  <thead>\n",
       "    <tr style=\"text-align: right;\">\n",
       "      <th></th>\n",
       "      <th>essay_id</th>\n",
       "      <th>essay_set</th>\n",
       "      <th>essay</th>\n",
       "      <th>final_score</th>\n",
       "      <th>clean_essay</th>\n",
       "      <th>char_count</th>\n",
       "      <th>word_count</th>\n",
       "      <th>sent_count</th>\n",
       "      <th>avg_word_len</th>\n",
       "      <th>spell_err_count</th>\n",
       "      <th>noun_count</th>\n",
       "      <th>adj_count</th>\n",
       "      <th>verb_count</th>\n",
       "      <th>adv_count</th>\n",
       "    </tr>\n",
       "  </thead>\n",
       "  <tbody>\n",
       "    <tr>\n",
       "      <th>0</th>\n",
       "      <td>1</td>\n",
       "      <td>1</td>\n",
       "      <td>Dear local newspaper, I think effects computer...</td>\n",
       "      <td>6</td>\n",
       "      <td>Dear local newspaper  I think effects computer...</td>\n",
       "      <td>1441</td>\n",
       "      <td>344</td>\n",
       "      <td>16</td>\n",
       "      <td>4.188953</td>\n",
       "      <td>11</td>\n",
       "      <td>76</td>\n",
       "      <td>75</td>\n",
       "      <td>18</td>\n",
       "      <td>24</td>\n",
       "    </tr>\n",
       "  </tbody>\n",
       "</table>\n",
       "</div>"
      ],
      "text/plain": [
       "   essay_id  essay_set                                              essay  \\\n",
       "0         1          1  Dear local newspaper, I think effects computer...   \n",
       "\n",
       "   final_score                                        clean_essay  char_count  \\\n",
       "0            6  Dear local newspaper  I think effects computer...        1441   \n",
       "\n",
       "   word_count  sent_count  avg_word_len  spell_err_count  noun_count  \\\n",
       "0         344          16      4.188953               11          76   \n",
       "\n",
       "   adj_count  verb_count  adv_count  \n",
       "0         75          18         24  "
      ]
     },
     "execution_count": 5,
     "metadata": {},
     "output_type": "execute_result"
    }
   ],
   "source": [
    "temp.head(1)"
   ]
  },
  {
   "cell_type": "code",
   "execution_count": 6,
   "metadata": {},
   "outputs": [],
   "source": [
    "#Make Dataset\n",
    "y = df['domain1_score']\n",
    "df.drop('domain1_score',inplace=True,axis=1)\n",
    "X=df"
   ]
  },
  {
   "cell_type": "code",
   "execution_count": 7,
   "metadata": {},
   "outputs": [],
   "source": [
    "X_train, X_test, y_train, y_test = train_test_split(X, y, test_size=0.3, random_state=42)"
   ]
  },
  {
   "cell_type": "code",
   "execution_count": 8,
   "metadata": {},
   "outputs": [
    {
     "data": {
      "text/plain": [
       "(9083, 3)"
      ]
     },
     "execution_count": 8,
     "metadata": {},
     "output_type": "execute_result"
    }
   ],
   "source": [
    "X_train.shape"
   ]
  },
  {
   "cell_type": "markdown",
   "metadata": {},
   "source": [
    " "
   ]
  },
  {
   "cell_type": "markdown",
   "metadata": {},
   "source": [
    "**PREPROCESSING**"
   ]
  },
  {
   "cell_type": "code",
   "execution_count": 9,
   "metadata": {},
   "outputs": [],
   "source": [
    "train_e = X_train['essay'].tolist()\n",
    "test_e = X_test['essay'].tolist()"
   ]
  },
  {
   "cell_type": "code",
   "execution_count": 10,
   "metadata": {},
   "outputs": [],
   "source": [
    "train_sents=[]\n",
    "test_sents=[]\n",
    "\n",
    "stop_words = set(stopwords.words('english')) \n",
    "def sent2word(x):\n",
    "    x=re.sub(\"[^A-Za-z]\",\" \",x)\n",
    "    x.lower()\n",
    "    filtered_sentence = [] \n",
    "    words=x.split()\n",
    "    for w in words:\n",
    "        if w not in stop_words: \n",
    "            filtered_sentence.append(w)\n",
    "    return filtered_sentence\n",
    "\n",
    "def essay2word(essay):\n",
    "    essay = essay.strip()\n",
    "    tokenizer = nltk.data.load('tokenizers/punkt/english.pickle')\n",
    "    raw = tokenizer.tokenize(essay)\n",
    "    final_words=[]\n",
    "    for i in raw:\n",
    "        if(len(i)>0):\n",
    "            final_words.append(sent2word(i))\n",
    "    return final_words\n",
    "\n",
    "for i in train_e:\n",
    "    train_sents+=essay2word(i)\n",
    "\n",
    "for i in test_e:\n",
    "    test_sents+=essay2word(i)"
   ]
  },
  {
   "cell_type": "code",
   "execution_count": 11,
   "metadata": {},
   "outputs": [
    {
     "data": {
      "text/plain": [
       "115941"
      ]
     },
     "execution_count": 11,
     "metadata": {},
     "output_type": "execute_result"
    }
   ],
   "source": [
    "len(train_sents)"
   ]
  },
  {
   "cell_type": "code",
   "execution_count": 12,
   "metadata": {},
   "outputs": [
    {
     "data": {
      "text/plain": [
       "['It',\n",
       " 'first',\n",
       " 'day',\n",
       " 'high',\n",
       " 'school',\n",
       " 'gut',\n",
       " 'full',\n",
       " 'butterflies',\n",
       " 'make',\n",
       " 'want',\n",
       " 'run',\n",
       " 'bathrooms',\n",
       " 'hide',\n",
       " 'world']"
      ]
     },
     "execution_count": 12,
     "metadata": {},
     "output_type": "execute_result"
    }
   ],
   "source": [
    "train_sents[0]"
   ]
  },
  {
   "cell_type": "markdown",
   "metadata": {},
   "source": [
    " "
   ]
  },
  {
   "cell_type": "markdown",
   "metadata": {},
   "source": [
    "**Preparing WORD2VEC and LSTM Model**"
   ]
  },
  {
   "cell_type": "code",
   "execution_count": 13,
   "metadata": {},
   "outputs": [],
   "source": [
    "def get_model():\n",
    "    model = Sequential()\n",
    "    model.add(LSTM(300, dropout=0.4, recurrent_dropout=0.4, input_shape=[1, 300], return_sequences=True))\n",
    "    model.add(LSTM(64, recurrent_dropout=0.4))\n",
    "    model.add(Dropout(0.5))\n",
    "    model.add(Dense(1, activation='relu'))\n",
    "    model.compile(loss='mean_squared_error', optimizer='rmsprop', metrics=['mae'])\n",
    "    model.summary()\n",
    "    return model"
   ]
  },
  {
   "cell_type": "code",
   "execution_count": 14,
   "metadata": {},
   "outputs": [],
   "source": [
    "#Training Word2Vec model\n",
    "num_features = 300 \n",
    "min_word_count = 40\n",
    "num_workers = 4\n",
    "context = 10\n",
    "downsampling = 1e-3\n",
    "\n",
    "model = Word2Vec(train_sents, \n",
    "                 workers=num_workers, \n",
    "                 vector_size=num_features, \n",
    "                 min_count = min_word_count, \n",
    "                 window = context, \n",
    "                 sample = downsampling)\n",
    "\n",
    "# model.init_sims(replace=True)\n",
    "model.wv.save_word2vec_format('word2vecmodel.bin', binary=True)"
   ]
  },
  {
   "cell_type": "code",
   "execution_count": 15,
   "metadata": {},
   "outputs": [
    {
     "data": {
      "text/plain": [
       "{'divide': 'warn', 'over': 'warn', 'under': 'ignore', 'invalid': 'warn'}"
      ]
     },
     "execution_count": 15,
     "metadata": {},
     "output_type": "execute_result"
    }
   ],
   "source": [
    "np.seterr(divide='ignore', invalid='ignore')"
   ]
  },
  {
   "cell_type": "code",
   "execution_count": 16,
   "metadata": {
    "scrolled": true
   },
   "outputs": [],
   "source": [
    "def makeVec(words, model, num_features):\n",
    "    vec = np.zeros((num_features),dtype=\"float32\")\n",
    "    noOfWords = 0.\n",
    "    index2word_set = set(model.wv.index_to_key)\n",
    "    for i in words:\n",
    "        if i in index2word_set:\n",
    "            noOfWords += 1\n",
    "            # vec = np.add(vec,model.wv[i])\n",
    "            vec = np.add(vec,model.wv[i])\n",
    "            # vec += model.wv[i].reshape((1, num_features))     \n",
    "    vec = np.divide(vec,noOfWords)\n",
    "    return vec\n",
    "\n",
    "\n",
    "def getVecs(essays, model, num_features):\n",
    "    c=0\n",
    "    essay_vecs = np.zeros((len(essays),num_features),dtype=\"float32\")\n",
    "    for i in essays:\n",
    "        essay_vecs[c] = makeVec(i, model, num_features)\n",
    "        c+=1\n",
    "    return essay_vecs\n",
    "\n",
    "\n",
    "clean_train=[]\n",
    "for i in train_e:\n",
    "    clean_train.append(sent2word(i))\n",
    "training_vectors = getVecs(clean_train, model, num_features)\n",
    "\n",
    "clean_test=[]\n",
    "\n",
    "for i in test_e:\n",
    "    clean_test.append(sent2word(i))\n",
    "testing_vectors = getVecs(clean_test, model, num_features)"
   ]
  },
  {
   "cell_type": "code",
   "execution_count": 17,
   "metadata": {},
   "outputs": [
    {
     "data": {
      "text/plain": [
       "(9083, 300)"
      ]
     },
     "execution_count": 17,
     "metadata": {},
     "output_type": "execute_result"
    }
   ],
   "source": [
    "training_vectors.shape"
   ]
  },
  {
   "cell_type": "code",
   "execution_count": 18,
   "metadata": {},
   "outputs": [
    {
     "name": "stdout",
     "output_type": "stream",
     "text": [
      "Model: \"sequential\"\n",
      "_________________________________________________________________\n",
      " Layer (type)                Output Shape              Param #   \n",
      "=================================================================\n",
      " lstm (LSTM)                 (None, 1, 300)            721200    \n",
      "                                                                 \n",
      " lstm_1 (LSTM)               (None, 64)                93440     \n",
      "                                                                 \n",
      " dropout (Dropout)           (None, 64)                0         \n",
      "                                                                 \n",
      " dense (Dense)               (None, 1)                 65        \n",
      "                                                                 \n",
      "=================================================================\n",
      "Total params: 814,705\n",
      "Trainable params: 814,705\n",
      "Non-trainable params: 0\n",
      "_________________________________________________________________\n"
     ]
    }
   ],
   "source": [
    "training_vectors = np.array(training_vectors)\n",
    "testing_vectors = np.array(testing_vectors)\n",
    "\n",
    "# Reshaping train and test vectors to 3 dimensions. (1 represnts one timestep)\n",
    "training_vectors = np.reshape(training_vectors, (training_vectors.shape[0], 1, training_vectors.shape[1]))\n",
    "testing_vectors = np.reshape(testing_vectors, (testing_vectors.shape[0], 1, testing_vectors.shape[1]))\n",
    "lstm_model = get_model()"
   ]
  },
  {
   "cell_type": "code",
   "execution_count": 19,
   "metadata": {},
   "outputs": [
    {
     "data": {
      "text/plain": [
       "(9083, 1, 300)"
      ]
     },
     "execution_count": 19,
     "metadata": {},
     "output_type": "execute_result"
    }
   ],
   "source": [
    "training_vectors.shape"
   ]
  },
  {
   "cell_type": "markdown",
   "metadata": {},
   "source": [
    "\n",
    "**TRAINING AND PREDICTION**\n",
    "\n",
    "\n",
    "\n",
    "\n",
    "\n"
   ]
  },
  {
   "cell_type": "markdown",
   "metadata": {},
   "source": [
    "  "
   ]
  },
  {
   "cell_type": "code",
   "execution_count": 20,
   "metadata": {},
   "outputs": [
    {
     "name": "stdout",
     "output_type": "stream",
     "text": [
      "Epoch 1/150\n",
      "142/142 [==============================] - 7s 23ms/step - loss: 7.4687 - mae: 2.1488\n",
      "Epoch 2/150\n",
      "142/142 [==============================] - 4s 26ms/step - loss: 5.2907 - mae: 1.8120\n",
      "Epoch 3/150\n",
      "142/142 [==============================] - 4s 25ms/step - loss: 4.8753 - mae: 1.7333\n",
      "Epoch 4/150\n",
      "142/142 [==============================] - 4s 27ms/step - loss: 4.7087 - mae: 1.7041\n",
      "Epoch 5/150\n",
      "142/142 [==============================] - 3s 24ms/step - loss: 4.5739 - mae: 1.6748\n",
      "Epoch 6/150\n",
      "142/142 [==============================] - 3s 22ms/step - loss: 4.4234 - mae: 1.6447\n",
      "Epoch 7/150\n",
      "142/142 [==============================] - 3s 22ms/step - loss: 4.3693 - mae: 1.6374\n",
      "Epoch 8/150\n",
      "142/142 [==============================] - 3s 21ms/step - loss: 4.3416 - mae: 1.6292\n",
      "Epoch 9/150\n",
      "142/142 [==============================] - 3s 22ms/step - loss: 4.2088 - mae: 1.6057\n",
      "Epoch 10/150\n",
      "142/142 [==============================] - 3s 20ms/step - loss: 4.1475 - mae: 1.5914\n",
      "Epoch 11/150\n",
      "142/142 [==============================] - 3s 22ms/step - loss: 4.0723 - mae: 1.5753\n",
      "Epoch 12/150\n",
      "142/142 [==============================] - 3s 22ms/step - loss: 4.0687 - mae: 1.5759\n",
      "Epoch 13/150\n",
      "142/142 [==============================] - 3s 21ms/step - loss: 3.9514 - mae: 1.5489\n",
      "Epoch 14/150\n",
      "142/142 [==============================] - 3s 24ms/step - loss: 3.9614 - mae: 1.5500\n",
      "Epoch 15/150\n",
      "142/142 [==============================] - 4s 27ms/step - loss: 3.9065 - mae: 1.5478\n",
      "Epoch 16/150\n",
      "142/142 [==============================] - 3s 25ms/step - loss: 3.9237 - mae: 1.5476\n",
      "Epoch 17/150\n",
      "142/142 [==============================] - 3s 23ms/step - loss: 3.8871 - mae: 1.5402\n",
      "Epoch 18/150\n",
      "142/142 [==============================] - 3s 20ms/step - loss: 3.7815 - mae: 1.5250\n",
      "Epoch 19/150\n",
      "142/142 [==============================] - 3s 21ms/step - loss: 3.7842 - mae: 1.5172\n",
      "Epoch 20/150\n",
      "142/142 [==============================] - 3s 21ms/step - loss: 3.7345 - mae: 1.5117\n",
      "Epoch 21/150\n",
      "142/142 [==============================] - 3s 21ms/step - loss: 3.7136 - mae: 1.5033\n",
      "Epoch 22/150\n",
      "142/142 [==============================] - 3s 22ms/step - loss: 3.6381 - mae: 1.4915\n",
      "Epoch 23/150\n",
      "142/142 [==============================] - 3s 20ms/step - loss: 3.5753 - mae: 1.4735\n",
      "Epoch 24/150\n",
      "142/142 [==============================] - 3s 24ms/step - loss: 3.5895 - mae: 1.4743\n",
      "Epoch 25/150\n",
      "142/142 [==============================] - 3s 22ms/step - loss: 3.5657 - mae: 1.4718\n",
      "Epoch 26/150\n",
      "142/142 [==============================] - 3s 22ms/step - loss: 3.5586 - mae: 1.4746\n",
      "Epoch 27/150\n",
      "142/142 [==============================] - 3s 21ms/step - loss: 3.5247 - mae: 1.4643\n",
      "Epoch 28/150\n",
      "142/142 [==============================] - 3s 22ms/step - loss: 3.5157 - mae: 1.4639\n",
      "Epoch 29/150\n",
      "142/142 [==============================] - 3s 24ms/step - loss: 3.4243 - mae: 1.4440\n",
      "Epoch 30/150\n",
      "142/142 [==============================] - 3s 23ms/step - loss: 3.4771 - mae: 1.4531\n",
      "Epoch 31/150\n",
      "142/142 [==============================] - 3s 22ms/step - loss: 3.3433 - mae: 1.4254\n",
      "Epoch 32/150\n",
      "142/142 [==============================] - 3s 21ms/step - loss: 3.4140 - mae: 1.4394\n",
      "Epoch 33/150\n",
      "142/142 [==============================] - 3s 21ms/step - loss: 3.3424 - mae: 1.4203\n",
      "Epoch 34/150\n",
      "142/142 [==============================] - 3s 22ms/step - loss: 3.3437 - mae: 1.4148\n",
      "Epoch 35/150\n",
      "142/142 [==============================] - 3s 24ms/step - loss: 3.3110 - mae: 1.4082\n",
      "Epoch 36/150\n",
      "142/142 [==============================] - 3s 21ms/step - loss: 3.2305 - mae: 1.4024\n",
      "Epoch 37/150\n",
      "142/142 [==============================] - 3s 21ms/step - loss: 3.2751 - mae: 1.4069\n",
      "Epoch 38/150\n",
      "142/142 [==============================] - 3s 22ms/step - loss: 3.2593 - mae: 1.4009\n",
      "Epoch 39/150\n",
      "142/142 [==============================] - 3s 24ms/step - loss: 3.2238 - mae: 1.3970\n",
      "Epoch 40/150\n",
      "142/142 [==============================] - 3s 24ms/step - loss: 3.2051 - mae: 1.3909\n",
      "Epoch 41/150\n",
      "142/142 [==============================] - 3s 22ms/step - loss: 3.1646 - mae: 1.3794\n",
      "Epoch 42/150\n",
      "142/142 [==============================] - 3s 21ms/step - loss: 3.1706 - mae: 1.3840\n",
      "Epoch 43/150\n",
      "142/142 [==============================] - 3s 22ms/step - loss: 3.1738 - mae: 1.3829\n",
      "Epoch 44/150\n",
      "142/142 [==============================] - 3s 23ms/step - loss: 3.1343 - mae: 1.3757\n",
      "Epoch 45/150\n",
      "142/142 [==============================] - 4s 25ms/step - loss: 3.0898 - mae: 1.3641\n",
      "Epoch 46/150\n",
      "142/142 [==============================] - 3s 23ms/step - loss: 3.1235 - mae: 1.3704\n",
      "Epoch 47/150\n",
      "142/142 [==============================] - 3s 20ms/step - loss: 3.0140 - mae: 1.3421\n",
      "Epoch 48/150\n",
      "142/142 [==============================] - 3s 21ms/step - loss: 3.0722 - mae: 1.3629\n",
      "Epoch 49/150\n",
      "142/142 [==============================] - 3s 22ms/step - loss: 3.0578 - mae: 1.3621\n",
      "Epoch 50/150\n",
      "142/142 [==============================] - 3s 24ms/step - loss: 3.0400 - mae: 1.3507\n",
      "Epoch 51/150\n",
      "142/142 [==============================] - 3s 21ms/step - loss: 2.9975 - mae: 1.3434\n",
      "Epoch 52/150\n",
      "142/142 [==============================] - 3s 21ms/step - loss: 3.0235 - mae: 1.3451\n",
      "Epoch 53/150\n",
      "142/142 [==============================] - 3s 25ms/step - loss: 3.0324 - mae: 1.3460\n",
      "Epoch 54/150\n",
      "142/142 [==============================] - 4s 30ms/step - loss: 2.9640 - mae: 1.3378\n",
      "Epoch 55/150\n",
      "142/142 [==============================] - 4s 25ms/step - loss: 2.9502 - mae: 1.3344\n",
      "Epoch 56/150\n",
      "142/142 [==============================] - 4s 27ms/step - loss: 2.9732 - mae: 1.3388\n",
      "Epoch 57/150\n",
      "142/142 [==============================] - 4s 26ms/step - loss: 2.9524 - mae: 1.3271\n",
      "Epoch 58/150\n",
      "142/142 [==============================] - 4s 26ms/step - loss: 2.9187 - mae: 1.3236\n",
      "Epoch 59/150\n",
      "142/142 [==============================] - 4s 27ms/step - loss: 2.8908 - mae: 1.3173\n",
      "Epoch 60/150\n",
      "142/142 [==============================] - 5s 36ms/step - loss: 2.9230 - mae: 1.3250\n",
      "Epoch 61/150\n",
      "142/142 [==============================] - 4s 31ms/step - loss: 2.8963 - mae: 1.3163\n",
      "Epoch 62/150\n",
      "142/142 [==============================] - 4s 25ms/step - loss: 2.8400 - mae: 1.3046\n",
      "Epoch 63/150\n",
      "142/142 [==============================] - 3s 21ms/step - loss: 2.8788 - mae: 1.3128\n",
      "Epoch 64/150\n",
      "142/142 [==============================] - 4s 25ms/step - loss: 2.8035 - mae: 1.2941\n",
      "Epoch 65/150\n",
      "142/142 [==============================] - 3s 23ms/step - loss: 2.8552 - mae: 1.3110\n",
      "Epoch 66/150\n",
      "142/142 [==============================] - 3s 21ms/step - loss: 2.7931 - mae: 1.2964\n",
      "Epoch 67/150\n",
      "142/142 [==============================] - 4s 28ms/step - loss: 2.8439 - mae: 1.3059\n",
      "Epoch 68/150\n",
      "142/142 [==============================] - 3s 22ms/step - loss: 2.7877 - mae: 1.2877\n",
      "Epoch 69/150\n",
      "142/142 [==============================] - 3s 21ms/step - loss: 2.7510 - mae: 1.2812\n",
      "Epoch 70/150\n",
      "142/142 [==============================] - 3s 22ms/step - loss: 2.7970 - mae: 1.2872\n",
      "Epoch 71/150\n",
      "142/142 [==============================] - 3s 22ms/step - loss: 2.7867 - mae: 1.2946\n",
      "Epoch 72/150\n",
      "142/142 [==============================] - 4s 25ms/step - loss: 2.7713 - mae: 1.2866\n",
      "Epoch 73/150\n",
      "142/142 [==============================] - 4s 25ms/step - loss: 2.7199 - mae: 1.2736\n",
      "Epoch 74/150\n",
      "142/142 [==============================] - 3s 22ms/step - loss: 2.7545 - mae: 1.2844\n",
      "Epoch 75/150\n",
      "142/142 [==============================] - 3s 21ms/step - loss: 2.6955 - mae: 1.2721\n",
      "Epoch 76/150\n",
      "142/142 [==============================] - 3s 21ms/step - loss: 2.6776 - mae: 1.2687\n",
      "Epoch 77/150\n",
      "142/142 [==============================] - 3s 22ms/step - loss: 2.7164 - mae: 1.2715\n",
      "Epoch 78/150\n",
      "142/142 [==============================] - 3s 22ms/step - loss: 2.6642 - mae: 1.2610\n",
      "Epoch 79/150\n",
      "142/142 [==============================] - 3s 22ms/step - loss: 2.6530 - mae: 1.2600\n",
      "Epoch 80/150\n",
      "142/142 [==============================] - 3s 23ms/step - loss: 2.6703 - mae: 1.2681\n",
      "Epoch 81/150\n",
      "142/142 [==============================] - 3s 23ms/step - loss: 2.6385 - mae: 1.2531\n",
      "Epoch 82/150\n",
      "142/142 [==============================] - 4s 25ms/step - loss: 2.6625 - mae: 1.2612\n",
      "Epoch 83/150\n",
      "142/142 [==============================] - 3s 24ms/step - loss: 2.6140 - mae: 1.2543\n",
      "Epoch 84/150\n",
      "142/142 [==============================] - 3s 24ms/step - loss: 2.6217 - mae: 1.2476\n",
      "Epoch 85/150\n",
      "142/142 [==============================] - 4s 25ms/step - loss: 2.6250 - mae: 1.2539\n",
      "Epoch 86/150\n",
      "142/142 [==============================] - 3s 23ms/step - loss: 2.6067 - mae: 1.2460\n",
      "Epoch 87/150\n",
      "142/142 [==============================] - 3s 24ms/step - loss: 2.5670 - mae: 1.2386\n",
      "Epoch 88/150\n",
      "142/142 [==============================] - 3s 21ms/step - loss: 2.5663 - mae: 1.2426\n",
      "Epoch 89/150\n",
      "142/142 [==============================] - 4s 25ms/step - loss: 2.5597 - mae: 1.2311\n",
      "Epoch 90/150\n",
      "142/142 [==============================] - 3s 25ms/step - loss: 2.5718 - mae: 1.2438\n",
      "Epoch 91/150\n",
      "142/142 [==============================] - 3s 22ms/step - loss: 2.5514 - mae: 1.2353\n",
      "Epoch 92/150\n",
      "142/142 [==============================] - 3s 23ms/step - loss: 2.5567 - mae: 1.2371\n",
      "Epoch 93/150\n",
      "142/142 [==============================] - 4s 25ms/step - loss: 2.5560 - mae: 1.2320\n",
      "Epoch 94/150\n",
      "142/142 [==============================] - 4s 26ms/step - loss: 2.5768 - mae: 1.2415\n",
      "Epoch 95/150\n",
      "142/142 [==============================] - 4s 25ms/step - loss: 2.5283 - mae: 1.2235\n",
      "Epoch 96/150\n",
      "142/142 [==============================] - 4s 25ms/step - loss: 2.5201 - mae: 1.2254\n",
      "Epoch 97/150\n",
      "142/142 [==============================] - 3s 25ms/step - loss: 2.4858 - mae: 1.2205\n",
      "Epoch 98/150\n",
      "142/142 [==============================] - 3s 21ms/step - loss: 2.4781 - mae: 1.2177\n",
      "Epoch 99/150\n",
      "142/142 [==============================] - 4s 26ms/step - loss: 2.4876 - mae: 1.2181\n",
      "Epoch 100/150\n",
      "142/142 [==============================] - 3s 21ms/step - loss: 2.4651 - mae: 1.2205\n",
      "Epoch 101/150\n",
      "142/142 [==============================] - 3s 20ms/step - loss: 2.4724 - mae: 1.2133\n",
      "Epoch 102/150\n",
      "142/142 [==============================] - 3s 21ms/step - loss: 2.4517 - mae: 1.2061\n",
      "Epoch 103/150\n",
      "142/142 [==============================] - 3s 22ms/step - loss: 2.4086 - mae: 1.2035\n",
      "Epoch 104/150\n",
      "142/142 [==============================] - 3s 21ms/step - loss: 2.4713 - mae: 1.2106\n",
      "Epoch 105/150\n",
      "142/142 [==============================] - 3s 23ms/step - loss: 2.4336 - mae: 1.2085\n",
      "Epoch 106/150\n",
      "142/142 [==============================] - 4s 26ms/step - loss: 2.4386 - mae: 1.2031\n",
      "Epoch 107/150\n",
      "142/142 [==============================] - 3s 20ms/step - loss: 2.4138 - mae: 1.1997\n",
      "Epoch 108/150\n",
      "142/142 [==============================] - 3s 25ms/step - loss: 2.4547 - mae: 1.2034\n",
      "Epoch 109/150\n",
      "142/142 [==============================] - 3s 24ms/step - loss: 2.4005 - mae: 1.1938\n",
      "Epoch 110/150\n",
      "142/142 [==============================] - 3s 22ms/step - loss: 2.3911 - mae: 1.1887\n",
      "Epoch 111/150\n",
      "142/142 [==============================] - 3s 24ms/step - loss: 2.3699 - mae: 1.1848\n",
      "Epoch 112/150\n",
      "142/142 [==============================] - 3s 22ms/step - loss: 2.3449 - mae: 1.1858\n",
      "Epoch 113/150\n",
      "142/142 [==============================] - 3s 23ms/step - loss: 2.3836 - mae: 1.1904\n",
      "Epoch 114/150\n",
      "142/142 [==============================] - 3s 24ms/step - loss: 2.3599 - mae: 1.1792\n",
      "Epoch 115/150\n",
      "142/142 [==============================] - 3s 23ms/step - loss: 2.3737 - mae: 1.1910\n",
      "Epoch 116/150\n",
      "142/142 [==============================] - 3s 23ms/step - loss: 2.3146 - mae: 1.1720\n",
      "Epoch 117/150\n",
      "142/142 [==============================] - 4s 26ms/step - loss: 2.3293 - mae: 1.1758\n",
      "Epoch 118/150\n",
      "142/142 [==============================] - 3s 24ms/step - loss: 2.3079 - mae: 1.1746\n",
      "Epoch 119/150\n",
      "142/142 [==============================] - 3s 23ms/step - loss: 2.3250 - mae: 1.1748\n",
      "Epoch 120/150\n",
      "142/142 [==============================] - 3s 23ms/step - loss: 2.3147 - mae: 1.1730\n",
      "Epoch 121/150\n",
      "142/142 [==============================] - 3s 24ms/step - loss: 2.3249 - mae: 1.1755\n",
      "Epoch 122/150\n",
      "142/142 [==============================] - 3s 21ms/step - loss: 2.3591 - mae: 1.1837\n",
      "Epoch 123/150\n",
      "142/142 [==============================] - 3s 21ms/step - loss: 2.3110 - mae: 1.1715\n",
      "Epoch 124/150\n",
      "142/142 [==============================] - 3s 20ms/step - loss: 2.2413 - mae: 1.1577\n",
      "Epoch 125/150\n",
      "142/142 [==============================] - 3s 20ms/step - loss: 2.2401 - mae: 1.1589\n",
      "Epoch 126/150\n",
      "142/142 [==============================] - 3s 24ms/step - loss: 2.3066 - mae: 1.1657\n",
      "Epoch 127/150\n",
      "142/142 [==============================] - 3s 22ms/step - loss: 2.2855 - mae: 1.1677\n",
      "Epoch 128/150\n",
      "142/142 [==============================] - 3s 21ms/step - loss: 2.2366 - mae: 1.1570\n",
      "Epoch 129/150\n",
      "142/142 [==============================] - 3s 20ms/step - loss: 2.2422 - mae: 1.1556\n",
      "Epoch 130/150\n",
      "142/142 [==============================] - 3s 21ms/step - loss: 2.2575 - mae: 1.1528\n",
      "Epoch 131/150\n",
      "142/142 [==============================] - 3s 21ms/step - loss: 2.2739 - mae: 1.1632\n",
      "Epoch 132/150\n",
      "142/142 [==============================] - 3s 22ms/step - loss: 2.2240 - mae: 1.1471\n",
      "Epoch 133/150\n",
      "142/142 [==============================] - 3s 20ms/step - loss: 2.2142 - mae: 1.1495\n",
      "Epoch 134/150\n",
      "142/142 [==============================] - 3s 21ms/step - loss: 2.1795 - mae: 1.1417\n",
      "Epoch 135/150\n",
      "142/142 [==============================] - 4s 27ms/step - loss: 2.2364 - mae: 1.1534\n",
      "Epoch 136/150\n",
      "142/142 [==============================] - 4s 25ms/step - loss: 2.1862 - mae: 1.1431\n",
      "Epoch 137/150\n",
      "142/142 [==============================] - 4s 25ms/step - loss: 2.2441 - mae: 1.1527\n",
      "Epoch 138/150\n",
      "142/142 [==============================] - 4s 25ms/step - loss: 2.2092 - mae: 1.1430\n",
      "Epoch 139/150\n",
      "142/142 [==============================] - 3s 22ms/step - loss: 2.2125 - mae: 1.1472\n",
      "Epoch 140/150\n",
      "142/142 [==============================] - 3s 22ms/step - loss: 2.1606 - mae: 1.1331\n",
      "Epoch 141/150\n",
      "142/142 [==============================] - 3s 23ms/step - loss: 2.1528 - mae: 1.1280\n",
      "Epoch 142/150\n",
      "142/142 [==============================] - 3s 23ms/step - loss: 2.2097 - mae: 1.1434\n",
      "Epoch 143/150\n",
      "142/142 [==============================] - 3s 18ms/step - loss: 2.1705 - mae: 1.1347\n",
      "Epoch 144/150\n",
      "142/142 [==============================] - 3s 19ms/step - loss: 2.1809 - mae: 1.1425\n",
      "Epoch 145/150\n",
      "142/142 [==============================] - 3s 22ms/step - loss: 2.1423 - mae: 1.1272\n",
      "Epoch 146/150\n",
      "142/142 [==============================] - 3s 22ms/step - loss: 2.1319 - mae: 1.1265\n",
      "Epoch 147/150\n",
      "142/142 [==============================] - 3s 21ms/step - loss: 2.1402 - mae: 1.1271\n",
      "Epoch 148/150\n",
      "142/142 [==============================] - 3s 23ms/step - loss: 2.1552 - mae: 1.1293\n",
      "Epoch 149/150\n",
      "142/142 [==============================] - 3s 24ms/step - loss: 2.1122 - mae: 1.1234\n",
      "Epoch 150/150\n",
      "142/142 [==============================] - 3s 23ms/step - loss: 2.1027 - mae: 1.1205\n"
     ]
    },
    {
     "data": {
      "text/plain": [
       "<keras.callbacks.History at 0x1f1ee174f70>"
      ]
     },
     "execution_count": 20,
     "metadata": {},
     "output_type": "execute_result"
    }
   ],
   "source": [
    "lstm_model.fit(training_vectors, y_train, batch_size=64, epochs=150)"
   ]
  },
  {
   "cell_type": "code",
   "execution_count": 21,
   "metadata": {},
   "outputs": [
    {
     "data": {
      "text/plain": [
       "array([[3.],\n",
       "       [6.],\n",
       "       [7.],\n",
       "       ...,\n",
       "       [7.],\n",
       "       [8.],\n",
       "       [9.]], dtype=float32)"
      ]
     },
     "execution_count": 21,
     "metadata": {},
     "output_type": "execute_result"
    }
   ],
   "source": [
    "lstm_model.save('final_lstm.h5')\n",
    "y_pred = lstm_model.predict(testing_vectors)\n",
    "y_pred = np.around(y_pred)\n",
    "y_pred"
   ]
  }
 ],
 "metadata": {
  "kernelspec": {
   "display_name": "Python 3 (ipykernel)",
   "language": "python",
   "name": "python3"
  },
  "language_info": {
   "codemirror_mode": {
    "name": "ipython",
    "version": 3
   },
   "file_extension": ".py",
   "mimetype": "text/x-python",
   "name": "python",
   "nbconvert_exporter": "python",
   "pygments_lexer": "ipython3",
   "version": "3.9.7"
  }
 },
 "nbformat": 4,
 "nbformat_minor": 4
}
