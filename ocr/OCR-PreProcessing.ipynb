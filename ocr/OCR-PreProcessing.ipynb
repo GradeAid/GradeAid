{
 "cells": [
  {
   "cell_type": "code",
   "execution_count": 1,
   "id": "29fc994d",
   "metadata": {},
   "outputs": [],
   "source": [
    "import sys\n",
    "import matplotlib.pyplot as plt\n",
    "import numpy as np\n",
    "from PIL import Image as im\n",
    "from scipy.ndimage import interpolation as inter\n",
    "import cv2\n",
    "from imutils.perspective import four_point_transform"
   ]
  },
  {
   "cell_type": "code",
   "execution_count": 2,
   "id": "572ea7b9",
   "metadata": {},
   "outputs": [],
   "source": [
    "image = cv2.imread(\"test2.jpeg\")\n",
    "gray = cv2.cvtColor(image, cv2.COLOR_BGR2GRAY)\n",
    "# cv2.imshow(\"gray\", gray)\n",
    "\n",
    "# input_file = \"test2.jpeg\"\n",
    "# img = im.open(input_file)\n",
    "# cv2.imshow()\n",
    "# # imgf contains Binary image\n",
    "# # ret, imgf = cv2.threshold(img, 0, 255,cv2.THRESH_BINARY,cv2.THRESH_OTSU)\n",
    "# # convert to binary\n",
    "# wd, ht = img.size\n",
    "# pix = np.array(img.convert(\"1\").getdata(), np.uint8)\n",
    "# wd, ht"
   ]
  },
  {
   "cell_type": "code",
   "execution_count": 3,
   "id": "d6c6be4a",
   "metadata": {},
   "outputs": [],
   "source": [
    "blur = cv2.GaussianBlur(gray, (7,7), 0)\n",
    "# cv2.imshow(\"blur\", blur)"
   ]
  },
  {
   "cell_type": "code",
   "execution_count": 5,
   "id": "df0c63ca",
   "metadata": {},
   "outputs": [],
   "source": [
    "thresh = cv2.threshold(blur, 0, 255, cv2.THRESH_BINARY + cv2.THRESH_OTSU)[1]\n",
    "cv2.imshow(\"thresh\", thresh)"
   ]
  },
  {
   "cell_type": "code",
   "execution_count": null,
   "id": "5aadd4bf",
   "metadata": {},
   "outputs": [],
   "source": [
    "# Find contours and sort for largest contour\n",
    "cnts = cv2.findContours(thresh, cv2.RETR_EXTERNAL,cv2.CHAIN_APPROX_SIMPLE)\n",
    "cnts = cnts[0] if len(cnts) == 2 else cnts[1]\n",
    "cnts = sorted(cnts, key=cv2.contourArea, reverse=True)\n",
    "displayCnt = None\n",
    "\n",
    "for c in cnts:\n",
    "    # Perform contour approximation\n",
    "    peri = cv2.arcLength(c, True)\n",
    "    approx = cv2.approxPolyDP(c, 0.02 * peri, True)\n",
    "    if len(approx) == 4:\n",
    "        displayCnt = approx\n",
    "        break\n",
    "\n",
    "# Obtain birds' eye view of image\n",
    "warped = four_point_transform(image, displayCnt.reshape(4, 2))\n",
    "\n",
    "# cv2.imshow(\"thresh\", thresh)\n",
    "cv2.imshow(\"warped\", warped)\n",
    "cv2.waitKey()"
   ]
  },
  {
   "cell_type": "code",
   "execution_count": null,
   "id": "8654f420",
   "metadata": {
    "scrolled": true
   },
   "outputs": [],
   "source": [
    "bin_img = 1 - (pix.reshape((ht, wd)) / 255.0)\n",
    "plt.imshow(bin_img, cmap=\"gray\")\n",
    "plt.savefig(\"binary.png\")"
   ]
  },
  {
   "cell_type": "code",
   "execution_count": null,
   "id": "0e637573",
   "metadata": {},
   "outputs": [],
   "source": [
    "def find_score(arr, angle):\n",
    "    data = inter.rotate(arr, angle, reshape=False, order=0)\n",
    "    hist = np.sum(data, axis=1)\n",
    "    score = np.sum((hist[1:] - hist[:-1]) ** 2)\n",
    "    return hist, score"
   ]
  },
  {
   "cell_type": "code",
   "execution_count": null,
   "id": "b6af4015",
   "metadata": {},
   "outputs": [],
   "source": [
    "delta = 1\n",
    "limit = 5\n",
    "angles = np.arange(-limit, limit + delta, delta)\n",
    "scores = []\n",
    "for angle in angles:\n",
    "    hist, score = find_score(bin_img, angle)\n",
    "    scores.append(score)\n",
    "best_score = max(scores)\n",
    "best_angle = angles[scores.index(best_score)]\n",
    "print(\"Best angle: {}\".format(best_angle))"
   ]
  },
  {
   "cell_type": "code",
   "execution_count": null,
   "id": "3a466d7f",
   "metadata": {},
   "outputs": [],
   "source": [
    "# correct skew\n",
    "data = inter.rotate(bin_img, best_angle, reshape=False, order=0)\n",
    "img = im.fromarray((255 * data).astype(\"uint8\")).convert(\"RGB\")\n",
    "# img\n",
    "img.save(\"skew_corrected.png\")\n",
    "\n",
    "# dst = cv2.fastNlMeansDenoisingColored(img, None, 10, 10, 7, 15)\n",
    "# Plotting of source and destination image\n",
    "plt.subplot(121), plt.imshow(img)\n",
    "# plt.subplot(122), plt.imshow(dst)\n",
    "plt.show()"
   ]
  }
 ],
 "metadata": {
  "kernelspec": {
   "display_name": "Python 3 (ipykernel)",
   "language": "python",
   "name": "python3"
  },
  "language_info": {
   "codemirror_mode": {
    "name": "ipython",
    "version": 3
   },
   "file_extension": ".py",
   "mimetype": "text/x-python",
   "name": "python",
   "nbconvert_exporter": "python",
   "pygments_lexer": "ipython3",
   "version": "3.9.7"
  }
 },
 "nbformat": 4,
 "nbformat_minor": 5
}
