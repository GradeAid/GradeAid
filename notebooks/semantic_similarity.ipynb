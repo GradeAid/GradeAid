{
 "cells": [
  {
   "cell_type": "code",
   "execution_count": 1,
   "id": "f02043be-f03f-45a5-8741-f07e07ac0a32",
   "metadata": {},
   "outputs": [],
   "source": [
    "from sentence_transformers import SentenceTransformer, util\n",
    "import spacy\n",
    "import scipy\n",
    "import json"
   ]
  },
  {
   "cell_type": "code",
   "execution_count": 3,
   "id": "70d5cd25-bc99-404f-b747-ee46cc4dd66f",
   "metadata": {},
   "outputs": [
    {
     "data": {
      "application/vnd.jupyter.widget-view+json": {
       "model_id": "fd0c1528e6624bf38121fccf7b74fe4b",
       "version_major": 2,
       "version_minor": 0
      },
      "text/plain": [
       "Downloading:   0%|          | 0.00/1.18k [00:00<?, ?B/s]"
      ]
     },
     "metadata": {},
     "output_type": "display_data"
    },
    {
     "data": {
      "application/vnd.jupyter.widget-view+json": {
       "model_id": "1dc530ccbc304a078bd256cb7484d182",
       "version_major": 2,
       "version_minor": 0
      },
      "text/plain": [
       "Downloading:   0%|          | 0.00/10.1k [00:00<?, ?B/s]"
      ]
     },
     "metadata": {},
     "output_type": "display_data"
    },
    {
     "data": {
      "application/vnd.jupyter.widget-view+json": {
       "model_id": "27e12064aa104a87930af387d7a2175d",
       "version_major": 2,
       "version_minor": 0
      },
      "text/plain": [
       "Downloading:   0%|          | 0.00/571 [00:00<?, ?B/s]"
      ]
     },
     "metadata": {},
     "output_type": "display_data"
    },
    {
     "data": {
      "application/vnd.jupyter.widget-view+json": {
       "model_id": "b99b36ad13704ea2a14ef1cbc505be9a",
       "version_major": 2,
       "version_minor": 0
      },
      "text/plain": [
       "Downloading:   0%|          | 0.00/116 [00:00<?, ?B/s]"
      ]
     },
     "metadata": {},
     "output_type": "display_data"
    },
    {
     "data": {
      "application/vnd.jupyter.widget-view+json": {
       "model_id": "2daa9344bd1a498baae35eb0e40150f2",
       "version_major": 2,
       "version_minor": 0
      },
      "text/plain": [
       "Downloading:   0%|          | 0.00/39.3k [00:00<?, ?B/s]"
      ]
     },
     "metadata": {},
     "output_type": "display_data"
    },
    {
     "data": {
      "application/vnd.jupyter.widget-view+json": {
       "model_id": "19e696693869429cb803c691344ac048",
       "version_major": 2,
       "version_minor": 0
      },
      "text/plain": [
       "Downloading:   0%|          | 0.00/349 [00:00<?, ?B/s]"
      ]
     },
     "metadata": {},
     "output_type": "display_data"
    },
    {
     "data": {
      "application/vnd.jupyter.widget-view+json": {
       "model_id": "a905454d9f8747f8b9bdb3a32f83e021",
       "version_major": 2,
       "version_minor": 0
      },
      "text/plain": [
       "Downloading:   0%|          | 0.00/438M [00:00<?, ?B/s]"
      ]
     },
     "metadata": {},
     "output_type": "display_data"
    },
    {
     "data": {
      "application/vnd.jupyter.widget-view+json": {
       "model_id": "9037e06701594f5fa3aca11a0ebd00e2",
       "version_major": 2,
       "version_minor": 0
      },
      "text/plain": [
       "Downloading:   0%|          | 0.00/53.0 [00:00<?, ?B/s]"
      ]
     },
     "metadata": {},
     "output_type": "display_data"
    },
    {
     "data": {
      "application/vnd.jupyter.widget-view+json": {
       "model_id": "31cf612d34a440959e73f938cd34f242",
       "version_major": 2,
       "version_minor": 0
      },
      "text/plain": [
       "Downloading:   0%|          | 0.00/239 [00:00<?, ?B/s]"
      ]
     },
     "metadata": {},
     "output_type": "display_data"
    },
    {
     "data": {
      "application/vnd.jupyter.widget-view+json": {
       "model_id": "cc4e109c5fa746288e43d2df2a7373a2",
       "version_major": 2,
       "version_minor": 0
      },
      "text/plain": [
       "Downloading:   0%|          | 0.00/466k [00:00<?, ?B/s]"
      ]
     },
     "metadata": {},
     "output_type": "display_data"
    },
    {
     "data": {
      "application/vnd.jupyter.widget-view+json": {
       "model_id": "e11900c9e1a44079a2c59fd3e23602dc",
       "version_major": 2,
       "version_minor": 0
      },
      "text/plain": [
       "Downloading:   0%|          | 0.00/363 [00:00<?, ?B/s]"
      ]
     },
     "metadata": {},
     "output_type": "display_data"
    },
    {
     "data": {
      "application/vnd.jupyter.widget-view+json": {
       "model_id": "69e3e062e9864f87bbf0c48dda0bf958",
       "version_major": 2,
       "version_minor": 0
      },
      "text/plain": [
       "Downloading:   0%|          | 0.00/13.1k [00:00<?, ?B/s]"
      ]
     },
     "metadata": {},
     "output_type": "display_data"
    },
    {
     "data": {
      "application/vnd.jupyter.widget-view+json": {
       "model_id": "353dd6a51429431a89a69aba11ef73f8",
       "version_major": 2,
       "version_minor": 0
      },
      "text/plain": [
       "Downloading:   0%|          | 0.00/232k [00:00<?, ?B/s]"
      ]
     },
     "metadata": {},
     "output_type": "display_data"
    },
    {
     "data": {
      "application/vnd.jupyter.widget-view+json": {
       "model_id": "2356dbf61d7749a3a91d9c67627b523a",
       "version_major": 2,
       "version_minor": 0
      },
      "text/plain": [
       "Downloading:   0%|          | 0.00/190 [00:00<?, ?B/s]"
      ]
     },
     "metadata": {},
     "output_type": "display_data"
    }
   ],
   "source": [
    "model = SentenceTransformer(\"all-mpnet-base-v2\")"
   ]
  },
  {
   "cell_type": "code",
   "execution_count": 5,
   "id": "74850331-5d78-42f5-960d-8c2b39a4c1aa",
   "metadata": {},
   "outputs": [],
   "source": [
    "paragrah_seg = spacy.load(\"en_core_web_sm\")"
   ]
  },
  {
   "cell_type": "code",
   "execution_count": 6,
   "id": "420ed7ae-828f-4593-900a-56d0dfbc69c2",
   "metadata": {},
   "outputs": [],
   "source": [
    "def segment_paragraph(paragraph):\n",
    "    doc = paragrah_seg(paragraph)\n",
    "    res = []\n",
    "    for sentence in doc.sents:\n",
    "        res.append(sentence.text.strip())\n",
    "    return res"
   ]
  },
  {
   "cell_type": "code",
   "execution_count": 7,
   "id": "eca04f0d-631e-4229-a999-568d6e281936",
   "metadata": {},
   "outputs": [],
   "source": [
    "def semantic_senetence_similarity(s1, s2):\n",
    "    embeddings1 = model.encode(s1)\n",
    "    embeddings2 = model.encode(s2)\n",
    "\n",
    "    #Compute cosine-similarits\n",
    "    cosine_score = util.cos_sim(embeddings1, embeddings2)\n",
    "    # print(f\"Simliarity b/w '{s1}' & '{s2}' is {cosine_score[0][0]:.2f}\")\n",
    "    return cosine_score[0][0]"
   ]
  },
  {
   "cell_type": "code",
   "execution_count": 8,
   "id": "3962d5d5-b453-4ce2-b4f7-5f4c595e7089",
   "metadata": {},
   "outputs": [
    {
     "name": "stdout",
     "output_type": "stream",
     "text": [
      "The semantic similarity score is 0.80\n"
     ]
    }
   ],
   "source": [
    "# Sentence semantic similarity\n",
    "s1 = \"People need to log off their computers.\"\n",
    "s2 = \"It is necessary for people to log off from their computers.\"\n",
    "score = semantic_senetence_similarity(s1 , s2)\n",
    "print(f'The semantic similarity score is {score:.2f}')"
   ]
  },
  {
   "cell_type": "code",
   "execution_count": 9,
   "id": "7842a2c6-6e87-4a5f-a096-72c7111aa9f5",
   "metadata": {},
   "outputs": [],
   "source": [
    "sample_key = \"Cat is a very adorable and a cute animal. It is a domestic animal and is kept as a pet. It has very sharp claws and keen eyes that help it in seeing during the night. That means that it has a very good nocturnal vision that is much better than humans. It has two small ears, with a highly sensitive tympanic membrane (eardrum), which helps it in hearing even the slightest of the sounds. It’s small and bushy tail helps it in maintaining balance while walking.Cat is an extremely beautiful and a mesmerising mammal, which can attract you towards itself with it’s laid back attitude and funny portrayal of it’s actions. You will be completely fascinated by the cat. It can be aggressive at times, when it is irritated or is being continuously poked. Cats are found in many colours like brown, golden, white, black or a mix of any these two colours.\""
   ]
  },
  {
   "cell_type": "code",
   "execution_count": 10,
   "id": "bc2578e0-fd92-4c45-922d-bc2b165a9485",
   "metadata": {},
   "outputs": [
    {
     "name": "stdout",
     "output_type": "stream",
     "text": [
      "Segmented paragraph for key is\n"
     ]
    },
    {
     "data": {
      "text/plain": [
       "['Cat is a very adorable and a cute animal.',\n",
       " 'It is a domestic animal and is kept as a pet.',\n",
       " 'It has very sharp claws and keen eyes that help it in seeing during the night.',\n",
       " 'That means that it has a very good nocturnal vision that is much better than humans.',\n",
       " 'It has two small ears, with a highly sensitive tympanic membrane (eardrum), which helps it in hearing even the slightest of the sounds.',\n",
       " 'It’s small and bushy tail helps it in maintaining balance while walking.',\n",
       " 'Cat is an extremely beautiful and a mesmerising mammal, which can attract you towards itself with it’s laid back attitude and funny portrayal of it’s actions.',\n",
       " 'You will be completely fascinated by the cat.',\n",
       " 'It can be aggressive at times, when it is irritated or is being continuously poked.',\n",
       " 'Cats are found in many colours like brown, golden, white, black or a mix of any these two colours.']"
      ]
     },
     "execution_count": 10,
     "metadata": {},
     "output_type": "execute_result"
    }
   ],
   "source": [
    "segmented_key_sentences = segment_paragraph(sample_key)\n",
    "print(\"Segmented paragraph for key is\")\n",
    "segmented_key_sentences"
   ]
  },
  {
   "cell_type": "code",
   "execution_count": 11,
   "id": "e9e6463a-8dc9-4e98-a413-13ba0d965e5f",
   "metadata": {},
   "outputs": [],
   "source": [
    "sample_answer = \"\"\"The cat is a really lovely and adorable animal. It is a pet that is kept as a domestic animal. It possesses razor-sharp claws and strong eyes that aid it in night vision. That implies it has excellent nocturnal eyesight, far superior to that of humans.\n",
    "It has two tiny ears and an extremely sensitive tympanic membrane (eardrum) that allows it to hear even the smallest noises. It walks with a tiny, bushy tail that helps it maintain balance.Cat is a mesmerising and incredibly attractive animal that may draw you in with its laid-back demeanour and amusing representation of its behaviours. The cat will hold your attention totally.\"\"\""
   ]
  },
  {
   "cell_type": "code",
   "execution_count": 12,
   "id": "17b5fd96-185d-4d3d-8150-460946f98c79",
   "metadata": {},
   "outputs": [
    {
     "name": "stdout",
     "output_type": "stream",
     "text": [
      "Segmented paragraph for sample answer is\n"
     ]
    },
    {
     "data": {
      "text/plain": [
       "['The cat is a really lovely and adorable animal.',\n",
       " 'It is a pet that is kept as a domestic animal.',\n",
       " 'It possesses razor-sharp claws and strong eyes that aid it in night vision.',\n",
       " 'That implies it has excellent nocturnal eyesight, far superior to that of humans.',\n",
       " 'It has two tiny ears and an extremely sensitive tympanic membrane (eardrum) that allows it to hear even the smallest noises.',\n",
       " 'It walks with a tiny, bushy tail that helps it maintain balance.',\n",
       " 'Cat is a mesmerising and incredibly attractive animal that may draw you in with its laid-back demeanour and amusing representation of its behaviours.',\n",
       " 'The cat will hold your attention totally.']"
      ]
     },
     "execution_count": 12,
     "metadata": {},
     "output_type": "execute_result"
    }
   ],
   "source": [
    "segmented_answer_sentences = segment_paragraph(sample_answer)\n",
    "print(\"Segmented paragraph for sample answer is\")\n",
    "segmented_answer_sentences"
   ]
  },
  {
   "cell_type": "code",
   "execution_count": 13,
   "id": "55bd1bd2-58f3-448c-95b7-fa02d769ebae",
   "metadata": {},
   "outputs": [],
   "source": [
    "def match_answer_with_key(answer, key, threshold=0.5):\n",
    "    segmented_answer_sentences = segment_paragraph(answer)\n",
    "    segmented_key_sentences = segment_paragraph(key)\n",
    "    sentence_covereded_in_answer = [False for _ in range(len(segmented_key_sentences))]\n",
    "    matched_sentences = []\n",
    "    for answer_sentence in segmented_answer_sentences:\n",
    "        for key_sentence in segmented_key_sentences:\n",
    "            similarity = semantic_senetence_similarity(answer_sentence, key_sentence)\n",
    "            if similarity > threshold:\n",
    "                sentence_covereded_in_answer[segmented_key_sentences.index(key_sentence)] = True\n",
    "                obj = {\"answer_sentence\": answer_sentence, \"key_sentence\": key_sentence, \"similarity_score\": similarity.item()}\n",
    "                matched_sentences.append(obj)\n",
    "                \n",
    "    # filter key sentences not in answer\n",
    "    key_sentences_not_in_answer = [segmented_key_sentences[i] for i in range(len(segmented_key_sentences)) if sentence_covereded_in_answer[i] == False]\n",
    "    key_sentences_in_answer = [segmented_key_sentences[i] for i in range(len(segmented_key_sentences)) if sentence_covereded_in_answer[i] == True]\n",
    "    # print(key_sentences_not_in_answer)\n",
    "    \n",
    "    #calculate semantic score\n",
    "    total_len = sum(len(sent) for sent in segmented_key_sentences)\n",
    "    sum_ = 0\n",
    "    for i in range(len(segmented_key_sentences)):\n",
    "        if sentence_covereded_in_answer[i] == True:\n",
    "            sum_ += len(segmented_key_sentences[i])\n",
    "    final_score = 10*sum_/total_len\n",
    "    final_dict = {\n",
    "    \"semantic_score\": final_score,\n",
    "    \"key_sentences_not_in_answer\": key_sentences_not_in_answer,\n",
    "    \"key_sentences_in_answer\": key_sentences_in_answer,\n",
    "    \"matched_sentences\": matched_sentences\n",
    "    }\n",
    "    json_object = json.dumps(final_dict)\n",
    "    # print(f'Total: {total_len}; Sum: {sum_}; Final_Score: {final_score}')\n",
    "    return json_object\n",
    "                # print(f\"Simlilar sentences found! \\n S1: {answer_sentence} \\n S2: {key_sentence} \\n With Similarity Score: {similarity:.2f}\")"
   ]
  },
  {
   "cell_type": "code",
   "execution_count": 14,
   "id": "4af5778c-2cfc-42b5-9ddc-329759dacb37",
   "metadata": {},
   "outputs": [
    {
     "data": {
      "text/plain": [
       "'{\"semantic_score\": 9.01072705601907, \"key_sentences_not_in_answer\": [\"It can be aggressive at times, when it is irritated or is being continuously poked.\"], \"key_sentences_in_answer\": [\"Cat is a very adorable and a cute animal.\", \"It is a domestic animal and is kept as a pet.\", \"It has very sharp claws and keen eyes that help it in seeing during the night.\", \"That means that it has a very good nocturnal vision that is much better than humans.\", \"It has two small ears, with a highly sensitive tympanic membrane (eardrum), which helps it in hearing even the slightest of the sounds.\", \"It\\\\u2019s small and bushy tail helps it in maintaining balance while walking.\", \"Cat is an extremely beautiful and a mesmerising mammal, which can attract you towards itself with it\\\\u2019s laid back attitude and funny portrayal of it\\\\u2019s actions.\", \"You will be completely fascinated by the cat.\", \"Cats are found in many colours like brown, golden, white, black or a mix of any these two colours.\"], \"matched_sentences\": [{\"answer_sentence\": \"The cat is a really lovely and adorable animal.\", \"key_sentence\": \"Cat is a very adorable and a cute animal.\", \"similarity_score\": 0.8514648675918579}, {\"answer_sentence\": \"The cat is a really lovely and adorable animal.\", \"key_sentence\": \"It is a domestic animal and is kept as a pet.\", \"similarity_score\": 0.5624103546142578}, {\"answer_sentence\": \"The cat is a really lovely and adorable animal.\", \"key_sentence\": \"Cat is an extremely beautiful and a mesmerising mammal, which can attract you towards itself with it\\\\u2019s laid back attitude and funny portrayal of it\\\\u2019s actions.\", \"similarity_score\": 0.6976026296615601}, {\"answer_sentence\": \"The cat is a really lovely and adorable animal.\", \"key_sentence\": \"You will be completely fascinated by the cat.\", \"similarity_score\": 0.5308356881141663}, {\"answer_sentence\": \"It is a pet that is kept as a domestic animal.\", \"key_sentence\": \"It is a domestic animal and is kept as a pet.\", \"similarity_score\": 0.9430916905403137}, {\"answer_sentence\": \"It is a pet that is kept as a domestic animal.\", \"key_sentence\": \"It\\\\u2019s small and bushy tail helps it in maintaining balance while walking.\", \"similarity_score\": 0.5096153020858765}, {\"answer_sentence\": \"It possesses razor-sharp claws and strong eyes that aid it in night vision.\", \"key_sentence\": \"It has very sharp claws and keen eyes that help it in seeing during the night.\", \"similarity_score\": 0.9369876384735107}, {\"answer_sentence\": \"It possesses razor-sharp claws and strong eyes that aid it in night vision.\", \"key_sentence\": \"That means that it has a very good nocturnal vision that is much better than humans.\", \"similarity_score\": 0.6646885871887207}, {\"answer_sentence\": \"It possesses razor-sharp claws and strong eyes that aid it in night vision.\", \"key_sentence\": \"It\\\\u2019s small and bushy tail helps it in maintaining balance while walking.\", \"similarity_score\": 0.5423439145088196}, {\"answer_sentence\": \"That implies it has excellent nocturnal eyesight, far superior to that of humans.\", \"key_sentence\": \"It has very sharp claws and keen eyes that help it in seeing during the night.\", \"similarity_score\": 0.6841686964035034}, {\"answer_sentence\": \"That implies it has excellent nocturnal eyesight, far superior to that of humans.\", \"key_sentence\": \"That means that it has a very good nocturnal vision that is much better than humans.\", \"similarity_score\": 0.9504935145378113}, {\"answer_sentence\": \"It has two tiny ears and an extremely sensitive tympanic membrane (eardrum) that allows it to hear even the smallest noises.\", \"key_sentence\": \"It has very sharp claws and keen eyes that help it in seeing during the night.\", \"similarity_score\": 0.5446375012397766}, {\"answer_sentence\": \"It has two tiny ears and an extremely sensitive tympanic membrane (eardrum) that allows it to hear even the smallest noises.\", \"key_sentence\": \"It has two small ears, with a highly sensitive tympanic membrane (eardrum), which helps it in hearing even the slightest of the sounds.\", \"similarity_score\": 0.95951247215271}, {\"answer_sentence\": \"It walks with a tiny, bushy tail that helps it maintain balance.\", \"key_sentence\": \"It is a domestic animal and is kept as a pet.\", \"similarity_score\": 0.5098530650138855}, {\"answer_sentence\": \"It walks with a tiny, bushy tail that helps it maintain balance.\", \"key_sentence\": \"It has very sharp claws and keen eyes that help it in seeing during the night.\", \"similarity_score\": 0.5868215560913086}, {\"answer_sentence\": \"It walks with a tiny, bushy tail that helps it maintain balance.\", \"key_sentence\": \"It\\\\u2019s small and bushy tail helps it in maintaining balance while walking.\", \"similarity_score\": 0.8433465957641602}, {\"answer_sentence\": \"Cat is a mesmerising and incredibly attractive animal that may draw you in with its laid-back demeanour and amusing representation of its behaviours.\", \"key_sentence\": \"Cat is a very adorable and a cute animal.\", \"similarity_score\": 0.8219809532165527}, {\"answer_sentence\": \"Cat is a mesmerising and incredibly attractive animal that may draw you in with its laid-back demeanour and amusing representation of its behaviours.\", \"key_sentence\": \"Cat is an extremely beautiful and a mesmerising mammal, which can attract you towards itself with it\\\\u2019s laid back attitude and funny portrayal of it\\\\u2019s actions.\", \"similarity_score\": 0.9589762091636658}, {\"answer_sentence\": \"Cat is a mesmerising and incredibly attractive animal that may draw you in with its laid-back demeanour and amusing representation of its behaviours.\", \"key_sentence\": \"You will be completely fascinated by the cat.\", \"similarity_score\": 0.544594943523407}, {\"answer_sentence\": \"Cat is a mesmerising and incredibly attractive animal that may draw you in with its laid-back demeanour and amusing representation of its behaviours.\", \"key_sentence\": \"Cats are found in many colours like brown, golden, white, black or a mix of any these two colours.\", \"similarity_score\": 0.5181063413619995}, {\"answer_sentence\": \"The cat will hold your attention totally.\", \"key_sentence\": \"Cat is a very adorable and a cute animal.\", \"similarity_score\": 0.5635561943054199}, {\"answer_sentence\": \"The cat will hold your attention totally.\", \"key_sentence\": \"Cat is an extremely beautiful and a mesmerising mammal, which can attract you towards itself with it\\\\u2019s laid back attitude and funny portrayal of it\\\\u2019s actions.\", \"similarity_score\": 0.5944087505340576}, {\"answer_sentence\": \"The cat will hold your attention totally.\", \"key_sentence\": \"You will be completely fascinated by the cat.\", \"similarity_score\": 0.7731355428695679}]}'"
      ]
     },
     "execution_count": 14,
     "metadata": {},
     "output_type": "execute_result"
    }
   ],
   "source": [
    "match_answer_with_key(sample_answer, sample_key)"
   ]
  }
 ],
 "metadata": {
  "kernelspec": {
   "display_name": "Python 3 (ipykernel)",
   "language": "python",
   "name": "python3"
  },
  "language_info": {
   "codemirror_mode": {
    "name": "ipython",
    "version": 3
   },
   "file_extension": ".py",
   "mimetype": "text/x-python",
   "name": "python",
   "nbconvert_exporter": "python",
   "pygments_lexer": "ipython3",
   "version": "3.9.7"
  }
 },
 "nbformat": 4,
 "nbformat_minor": 5
}
